{
 "cells": [
  {
   "cell_type": "markdown",
   "metadata": {},
   "source": [
    "# Operations on groups"
   ]
  },
  {
   "cell_type": "markdown",
   "metadata": {},
   "source": []
  },
  {
   "cell_type": "code",
   "execution_count": 1,
   "metadata": {},
   "outputs": [],
   "source": [
    "import pandas as pd\n",
    "import os"
   ]
  },
  {
   "cell_type": "code",
   "execution_count": 2,
   "metadata": {},
   "outputs": [
    {
     "name": "stdout",
     "output_type": "stream",
     "text": [
      "artwork_data.csv\n",
      "artworks\n",
      "data_frame.pickle\n",
      "test-json.json\n"
     ]
    }
   ],
   "source": [
    "%%bash\n",
    "ls data/"
   ]
  },
  {
   "cell_type": "code",
   "execution_count": 3,
   "metadata": {},
   "outputs": [],
   "source": [
    "# read file created in the exploring_pandas_data_input notebook\n",
    "file_path = os.path.join('./','data/', 'data_frame.pickle')\n",
    "df = pd.read_pickle(file_path)"
   ]
  },
  {
   "cell_type": "code",
   "execution_count": 4,
   "metadata": {},
   "outputs": [],
   "source": [
    "# take a slice from the original DataFrame\n",
    "small_df = df.iloc[49980:50019, :].copy()"
   ]
  },
  {
   "cell_type": "code",
   "execution_count": 5,
   "metadata": {},
   "outputs": [
    {
     "data": {
      "text/plain": [
       "(553608, 312)"
      ]
     },
     "execution_count": 5,
     "metadata": {},
     "output_type": "execute_result"
    }
   ],
   "source": [
    "df.size, small_df.size"
   ]
  },
  {
   "cell_type": "code",
   "execution_count": 6,
   "metadata": {},
   "outputs": [
    {
     "data": {
      "text/html": [
       "<div>\n",
       "<style scoped>\n",
       "    .dataframe tbody tr th:only-of-type {\n",
       "        vertical-align: middle;\n",
       "    }\n",
       "\n",
       "    .dataframe tbody tr th {\n",
       "        vertical-align: top;\n",
       "    }\n",
       "\n",
       "    .dataframe thead th {\n",
       "        text-align: right;\n",
       "    }\n",
       "</style>\n",
       "<table border=\"1\" class=\"dataframe\">\n",
       "  <thead>\n",
       "    <tr style=\"text-align: right;\">\n",
       "      <th></th>\n",
       "      <th>artist</th>\n",
       "      <th>title</th>\n",
       "      <th>medium</th>\n",
       "      <th>year</th>\n",
       "      <th>acquisitionYear</th>\n",
       "      <th>width</th>\n",
       "      <th>height</th>\n",
       "      <th>units</th>\n",
       "    </tr>\n",
       "    <tr>\n",
       "      <th>id</th>\n",
       "      <th></th>\n",
       "      <th></th>\n",
       "      <th></th>\n",
       "      <th></th>\n",
       "      <th></th>\n",
       "      <th></th>\n",
       "      <th></th>\n",
       "      <th></th>\n",
       "    </tr>\n",
       "  </thead>\n",
       "  <tbody>\n",
       "    <tr>\n",
       "      <td>16412</td>\n",
       "      <td>Wols</td>\n",
       "      <td>[no title]</td>\n",
       "      <td>Etching on paper</td>\n",
       "      <td>1937</td>\n",
       "      <td>1983.0</td>\n",
       "      <td>130</td>\n",
       "      <td>80</td>\n",
       "      <td>mm</td>\n",
       "    </tr>\n",
       "    <tr>\n",
       "      <td>16413</td>\n",
       "      <td>Wols</td>\n",
       "      <td>[no title]</td>\n",
       "      <td>Etching and drypoint on paper</td>\n",
       "      <td>1937</td>\n",
       "      <td>1983.0</td>\n",
       "      <td>187</td>\n",
       "      <td>102</td>\n",
       "      <td>mm</td>\n",
       "    </tr>\n",
       "    <tr>\n",
       "      <td>16414</td>\n",
       "      <td>Wols</td>\n",
       "      <td>[no title]</td>\n",
       "      <td>Etching and drypoint on paper</td>\n",
       "      <td>1937</td>\n",
       "      <td>1983.0</td>\n",
       "      <td>248</td>\n",
       "      <td>168</td>\n",
       "      <td>mm</td>\n",
       "    </tr>\n",
       "    <tr>\n",
       "      <td>16415</td>\n",
       "      <td>Wols</td>\n",
       "      <td>[no title]</td>\n",
       "      <td>Etching and drypoint on paper</td>\n",
       "      <td>1937</td>\n",
       "      <td>1983.0</td>\n",
       "      <td>149</td>\n",
       "      <td>102</td>\n",
       "      <td>mm</td>\n",
       "    </tr>\n",
       "    <tr>\n",
       "      <td>16416</td>\n",
       "      <td>Wols</td>\n",
       "      <td>[no title]</td>\n",
       "      <td>Etching and drypoint on paper</td>\n",
       "      <td>1937</td>\n",
       "      <td>1983.0</td>\n",
       "      <td>203</td>\n",
       "      <td>120</td>\n",
       "      <td>mm</td>\n",
       "    </tr>\n",
       "  </tbody>\n",
       "</table>\n",
       "</div>"
      ],
      "text/plain": [
       "      artist       title                         medium  year  \\\n",
       "id                                                              \n",
       "16412   Wols  [no title]               Etching on paper  1937   \n",
       "16413   Wols  [no title]  Etching and drypoint on paper  1937   \n",
       "16414   Wols  [no title]  Etching and drypoint on paper  1937   \n",
       "16415   Wols  [no title]  Etching and drypoint on paper  1937   \n",
       "16416   Wols  [no title]  Etching and drypoint on paper  1937   \n",
       "\n",
       "       acquisitionYear width height units  \n",
       "id                                         \n",
       "16412           1983.0   130     80    mm  \n",
       "16413           1983.0   187    102    mm  \n",
       "16414           1983.0   248    168    mm  \n",
       "16415           1983.0   149    102    mm  \n",
       "16416           1983.0   203    120    mm  "
      ]
     },
     "execution_count": 6,
     "metadata": {},
     "output_type": "execute_result"
    }
   ],
   "source": [
    "small_df.head()"
   ]
  },
  {
   "cell_type": "code",
   "execution_count": 7,
   "metadata": {},
   "outputs": [],
   "source": [
    "grouped = small_df.groupby('artist')"
   ]
  },
  {
   "cell_type": "code",
   "execution_count": 8,
   "metadata": {},
   "outputs": [
    {
     "data": {
      "text/plain": [
       "pandas.core.groupby.generic.DataFrameGroupBy"
      ]
     },
     "execution_count": 8,
     "metadata": {},
     "output_type": "execute_result"
    }
   ],
   "source": [
    "type(grouped)"
   ]
  },
  {
   "cell_type": "code",
   "execution_count": 9,
   "metadata": {},
   "outputs": [
    {
     "name": "stdout",
     "output_type": "stream",
     "text": [
      "Frost, Sir Terry\n",
      "                artist            title               medium  year  \\\n",
      "id                                                                   \n",
      "4704  Frost, Sir Terry        Blue Moon  Lithograph on paper  1952   \n",
      "4705  Frost, Sir Terry      Boat Shapes     Linocut on paper  1952   \n",
      "4706  Frost, Sir Terry      Boat Shapes     Linocut on paper  1954   \n",
      "4707  Frost, Sir Terry      Boat Shapes     Linocut on paper  1954   \n",
      "4708  Frost, Sir Terry            Leeds    Drypoint on paper  1956   \n",
      "4709  Frost, Sir Terry  Camping, Anduze     Etching on paper  1979   \n",
      "4710  Frost, Sir Terry     Umea, Sweden     Etching on paper  1979   \n",
      "4711  Frost, Sir Terry    Self-Portrait     Etching on paper  1980   \n",
      "\n",
      "      acquisitionYear width height units  \n",
      "id                                        \n",
      "4704           1983.0   355    273    mm  \n",
      "4705           1983.0   132    143    mm  \n",
      "4706           1983.0   131    155    mm  \n",
      "4707           1983.0   193    267    mm  \n",
      "4708           1983.0   125    167    mm  \n",
      "4709           1983.0   257    209    mm  \n",
      "4710           1983.0   NaN    NaN   NaN  \n",
      "4711           1983.0   277    200    mm  \n"
     ]
    }
   ],
   "source": [
    "for name, group_df in grouped:\n",
    "    print(name)\n",
    "    print(group_df)\n",
    "    break;"
   ]
  },
  {
   "cell_type": "code",
   "execution_count": 10,
   "metadata": {},
   "outputs": [
    {
     "name": "stdout",
     "output_type": "stream",
     "text": [
      "Frost, Sir Terry, 1983.0\n",
      "Phillips, Esq Tom, 1983.0\n",
      "Wols, 1983.0\n"
     ]
    }
   ],
   "source": [
    "for name, group_df in grouped:\n",
    "    min_year = group_df['acquisitionYear'].min()\n",
    "    print(f\"{name}, {min_year}\")\n"
   ]
  },
  {
   "cell_type": "code",
   "execution_count": null,
   "metadata": {},
   "outputs": [],
   "source": []
  },
  {
   "cell_type": "code",
   "execution_count": null,
   "metadata": {},
   "outputs": [],
   "source": []
  }
 ],
 "metadata": {
  "kernelspec": {
   "display_name": "Python 3",
   "language": "python",
   "name": "python3"
  },
  "language_info": {
   "codemirror_mode": {
    "name": "ipython",
    "version": 3
   },
   "file_extension": ".py",
   "mimetype": "text/x-python",
   "name": "python",
   "nbconvert_exporter": "python",
   "pygments_lexer": "ipython3",
   "version": "3.7.4"
  }
 },
 "nbformat": 4,
 "nbformat_minor": 2
}
