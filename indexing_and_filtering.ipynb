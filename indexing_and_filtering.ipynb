{
 "cells": [
  {
   "cell_type": "markdown",
   "metadata": {},
   "source": [
    "# Indexing and Filtering"
   ]
  },
  {
   "cell_type": "code",
   "execution_count": 1,
   "metadata": {},
   "outputs": [],
   "source": [
    "import pandas as pd\n",
    "import os"
   ]
  },
  {
   "cell_type": "markdown",
   "metadata": {},
   "source": [
    "### Importing a DataFrame from a pickled object"
   ]
  },
  {
   "cell_type": "code",
   "execution_count": 2,
   "metadata": {},
   "outputs": [
    {
     "name": "stdout",
     "output_type": "stream",
     "text": [
      "artwork_data.csv\n",
      "artworks\n",
      "data_frame.pickle\n",
      "dummy.csv\n",
      "test-json.json\n"
     ]
    }
   ],
   "source": [
    "%%bash\n",
    "ls data/"
   ]
  },
  {
   "cell_type": "code",
   "execution_count": 3,
   "metadata": {},
   "outputs": [],
   "source": [
    "# read file created in the exploring_pandas_data_input notebook\n",
    "file_path = os.path.join('./','data/', 'data_frame.pickle')\n",
    "df = pd.read_pickle(file_path)"
   ]
  },
  {
   "cell_type": "code",
   "execution_count": 4,
   "metadata": {},
   "outputs": [
    {
     "data": {
      "text/html": [
       "<div>\n",
       "<style scoped>\n",
       "    .dataframe tbody tr th:only-of-type {\n",
       "        vertical-align: middle;\n",
       "    }\n",
       "\n",
       "    .dataframe tbody tr th {\n",
       "        vertical-align: top;\n",
       "    }\n",
       "\n",
       "    .dataframe thead th {\n",
       "        text-align: right;\n",
       "    }\n",
       "</style>\n",
       "<table border=\"1\" class=\"dataframe\">\n",
       "  <thead>\n",
       "    <tr style=\"text-align: right;\">\n",
       "      <th></th>\n",
       "      <th>artist</th>\n",
       "      <th>title</th>\n",
       "      <th>medium</th>\n",
       "      <th>year</th>\n",
       "      <th>acquisitionYear</th>\n",
       "      <th>width</th>\n",
       "      <th>height</th>\n",
       "      <th>units</th>\n",
       "    </tr>\n",
       "    <tr>\n",
       "      <th>id</th>\n",
       "      <th></th>\n",
       "      <th></th>\n",
       "      <th></th>\n",
       "      <th></th>\n",
       "      <th></th>\n",
       "      <th></th>\n",
       "      <th></th>\n",
       "      <th></th>\n",
       "    </tr>\n",
       "  </thead>\n",
       "  <tbody>\n",
       "    <tr>\n",
       "      <td>1035</td>\n",
       "      <td>Blake, Robert</td>\n",
       "      <td>A Figure Bowing before a Seated Old Man with h...</td>\n",
       "      <td>Watercolour, ink, chalk and graphite on paper....</td>\n",
       "      <td>NaN</td>\n",
       "      <td>1922.0</td>\n",
       "      <td>394</td>\n",
       "      <td>419</td>\n",
       "      <td>mm</td>\n",
       "    </tr>\n",
       "    <tr>\n",
       "      <td>1036</td>\n",
       "      <td>Blake, Robert</td>\n",
       "      <td>Two Drawings of Frightened Figures, Probably f...</td>\n",
       "      <td>Graphite on paper</td>\n",
       "      <td>NaN</td>\n",
       "      <td>1922.0</td>\n",
       "      <td>311</td>\n",
       "      <td>213</td>\n",
       "      <td>mm</td>\n",
       "    </tr>\n",
       "    <tr>\n",
       "      <td>1037</td>\n",
       "      <td>Blake, Robert</td>\n",
       "      <td>The Preaching of Warning. Verso: An Old Man En...</td>\n",
       "      <td>Graphite on paper. Verso: graphite on paper</td>\n",
       "      <td>1785</td>\n",
       "      <td>1922.0</td>\n",
       "      <td>343</td>\n",
       "      <td>467</td>\n",
       "      <td>mm</td>\n",
       "    </tr>\n",
       "    <tr>\n",
       "      <td>1038</td>\n",
       "      <td>Blake, Robert</td>\n",
       "      <td>Six Drawings of Figures with Outstretched Arms</td>\n",
       "      <td>Graphite on paper</td>\n",
       "      <td>NaN</td>\n",
       "      <td>1922.0</td>\n",
       "      <td>318</td>\n",
       "      <td>394</td>\n",
       "      <td>mm</td>\n",
       "    </tr>\n",
       "    <tr>\n",
       "      <td>1039</td>\n",
       "      <td>Blake, William</td>\n",
       "      <td>The Circle of the Lustful: Francesca da Rimini...</td>\n",
       "      <td>Line engraving on paper</td>\n",
       "      <td>1826</td>\n",
       "      <td>1919.0</td>\n",
       "      <td>243</td>\n",
       "      <td>335</td>\n",
       "      <td>mm</td>\n",
       "    </tr>\n",
       "    <tr>\n",
       "      <td>...</td>\n",
       "      <td>...</td>\n",
       "      <td>...</td>\n",
       "      <td>...</td>\n",
       "      <td>...</td>\n",
       "      <td>...</td>\n",
       "      <td>...</td>\n",
       "      <td>...</td>\n",
       "      <td>...</td>\n",
       "    </tr>\n",
       "    <tr>\n",
       "      <td>122960</td>\n",
       "      <td>P-Orridge, Genesis</td>\n",
       "      <td>Larvae (from Tampax Romana)</td>\n",
       "      <td>Perspex, Wood, hairpiece, tampon and human blood</td>\n",
       "      <td>1975</td>\n",
       "      <td>2013.0</td>\n",
       "      <td>305</td>\n",
       "      <td>305</td>\n",
       "      <td>mm</td>\n",
       "    </tr>\n",
       "    <tr>\n",
       "      <td>122961</td>\n",
       "      <td>P-Orridge, Genesis</td>\n",
       "      <td>Living Womb (from Tampax Romana)</td>\n",
       "      <td>Wood, Perspex, plastic, photograph on paper, t...</td>\n",
       "      <td>1976</td>\n",
       "      <td>2013.0</td>\n",
       "      <td>305</td>\n",
       "      <td>305</td>\n",
       "      <td>mm</td>\n",
       "    </tr>\n",
       "    <tr>\n",
       "      <td>121181</td>\n",
       "      <td>Hatoum, Mona</td>\n",
       "      <td>Present Tense</td>\n",
       "      <td>Soap and glass beads</td>\n",
       "      <td>1996</td>\n",
       "      <td>2013.0</td>\n",
       "      <td>45</td>\n",
       "      <td>2410</td>\n",
       "      <td>mm</td>\n",
       "    </tr>\n",
       "    <tr>\n",
       "      <td>112306</td>\n",
       "      <td>Creed, Martin</td>\n",
       "      <td>Work No. 227: The lights going on and off</td>\n",
       "      <td>Gallery lighting</td>\n",
       "      <td>2000</td>\n",
       "      <td>2013.0</td>\n",
       "      <td>NaN</td>\n",
       "      <td>NaN</td>\n",
       "      <td>NaN</td>\n",
       "    </tr>\n",
       "    <tr>\n",
       "      <td>127035</td>\n",
       "      <td>Brunias, Agostino</td>\n",
       "      <td>Dancing Scene in the West Indies</td>\n",
       "      <td>Oil paint on canvas</td>\n",
       "      <td>1764</td>\n",
       "      <td>2013.0</td>\n",
       "      <td>508</td>\n",
       "      <td>660</td>\n",
       "      <td>mm</td>\n",
       "    </tr>\n",
       "  </tbody>\n",
       "</table>\n",
       "<p>69201 rows × 8 columns</p>\n",
       "</div>"
      ],
      "text/plain": [
       "                    artist                                              title  \\\n",
       "id                                                                              \n",
       "1035         Blake, Robert  A Figure Bowing before a Seated Old Man with h...   \n",
       "1036         Blake, Robert  Two Drawings of Frightened Figures, Probably f...   \n",
       "1037         Blake, Robert  The Preaching of Warning. Verso: An Old Man En...   \n",
       "1038         Blake, Robert     Six Drawings of Figures with Outstretched Arms   \n",
       "1039        Blake, William  The Circle of the Lustful: Francesca da Rimini...   \n",
       "...                    ...                                                ...   \n",
       "122960  P-Orridge, Genesis                        Larvae (from Tampax Romana)   \n",
       "122961  P-Orridge, Genesis                   Living Womb (from Tampax Romana)   \n",
       "121181        Hatoum, Mona                                      Present Tense   \n",
       "112306       Creed, Martin          Work No. 227: The lights going on and off   \n",
       "127035   Brunias, Agostino                   Dancing Scene in the West Indies   \n",
       "\n",
       "                                                   medium  year  \\\n",
       "id                                                                \n",
       "1035    Watercolour, ink, chalk and graphite on paper....   NaN   \n",
       "1036                                    Graphite on paper   NaN   \n",
       "1037          Graphite on paper. Verso: graphite on paper  1785   \n",
       "1038                                    Graphite on paper   NaN   \n",
       "1039                              Line engraving on paper  1826   \n",
       "...                                                   ...   ...   \n",
       "122960   Perspex, Wood, hairpiece, tampon and human blood  1975   \n",
       "122961  Wood, Perspex, plastic, photograph on paper, t...  1976   \n",
       "121181                               Soap and glass beads  1996   \n",
       "112306                                   Gallery lighting  2000   \n",
       "127035                                Oil paint on canvas  1764   \n",
       "\n",
       "        acquisitionYear width height units  \n",
       "id                                          \n",
       "1035             1922.0   394    419    mm  \n",
       "1036             1922.0   311    213    mm  \n",
       "1037             1922.0   343    467    mm  \n",
       "1038             1922.0   318    394    mm  \n",
       "1039             1919.0   243    335    mm  \n",
       "...                 ...   ...    ...   ...  \n",
       "122960           2013.0   305    305    mm  \n",
       "122961           2013.0   305    305    mm  \n",
       "121181           2013.0    45   2410    mm  \n",
       "112306           2013.0   NaN    NaN   NaN  \n",
       "127035           2013.0   508    660    mm  \n",
       "\n",
       "[69201 rows x 8 columns]"
      ]
     },
     "execution_count": 4,
     "metadata": {},
     "output_type": "execute_result"
    }
   ],
   "source": [
    "df"
   ]
  },
  {
   "cell_type": "markdown",
   "metadata": {},
   "source": [
    "### Extracting columns from DataFrame"
   ]
  },
  {
   "cell_type": "code",
   "execution_count": 5,
   "metadata": {},
   "outputs": [
    {
     "data": {
      "text/plain": [
       "id\n",
       "1035           Blake, Robert\n",
       "1036           Blake, Robert\n",
       "1037           Blake, Robert\n",
       "1038           Blake, Robert\n",
       "1039          Blake, William\n",
       "                 ...        \n",
       "122960    P-Orridge, Genesis\n",
       "122961    P-Orridge, Genesis\n",
       "121181          Hatoum, Mona\n",
       "112306         Creed, Martin\n",
       "127035     Brunias, Agostino\n",
       "Name: artist, Length: 69201, dtype: object"
      ]
     },
     "execution_count": 5,
     "metadata": {},
     "output_type": "execute_result"
    }
   ],
   "source": [
    "# Extract column from DataFrame using dot notation\n",
    "df.artist # avoid this"
   ]
  },
  {
   "cell_type": "code",
   "execution_count": 6,
   "metadata": {},
   "outputs": [],
   "source": [
    "# Extract column from DataFrame using square brackets\n",
    "artists = df['artist'] # this method is preferred"
   ]
  },
  {
   "cell_type": "code",
   "execution_count": 7,
   "metadata": {},
   "outputs": [
    {
     "data": {
      "text/plain": [
       "pandas.core.series.Series"
      ]
     },
     "execution_count": 7,
     "metadata": {},
     "output_type": "execute_result"
    }
   ],
   "source": [
    "type(artists)"
   ]
  },
  {
   "cell_type": "markdown",
   "metadata": {},
   "source": [
    "### Get unique values from a Series"
   ]
  },
  {
   "cell_type": "code",
   "execution_count": 8,
   "metadata": {},
   "outputs": [],
   "source": [
    "unique_artists = pd.unique(artists)"
   ]
  },
  {
   "cell_type": "code",
   "execution_count": 9,
   "metadata": {},
   "outputs": [
    {
     "data": {
      "text/plain": [
       "array(['Blake, Robert', 'Blake, William', 'Richmond, George', ...,\n",
       "       'Sterne, Hedda', 'P-Orridge, Genesis', 'Brunias, Agostino'],\n",
       "      dtype=object)"
      ]
     },
     "execution_count": 9,
     "metadata": {},
     "output_type": "execute_result"
    }
   ],
   "source": [
    "unique_artists"
   ]
  },
  {
   "cell_type": "code",
   "execution_count": 10,
   "metadata": {},
   "outputs": [
    {
     "data": {
      "text/plain": [
       "numpy.ndarray"
      ]
     },
     "execution_count": 10,
     "metadata": {},
     "output_type": "execute_result"
    }
   ],
   "source": [
    "type(unique_artists)"
   ]
  },
  {
   "cell_type": "code",
   "execution_count": 11,
   "metadata": {},
   "outputs": [
    {
     "data": {
      "text/plain": [
       "3336"
      ]
     },
     "execution_count": 11,
     "metadata": {},
     "output_type": "execute_result"
    }
   ],
   "source": [
    "len(unique_artists)"
   ]
  },
  {
   "cell_type": "markdown",
   "metadata": {},
   "source": [
    "### Counting\n",
    "\n",
    "Let's count how many works in the collection were made by a particular artist."
   ]
  },
  {
   "cell_type": "code",
   "execution_count": 12,
   "metadata": {},
   "outputs": [],
   "source": [
    "# Create a Series containing boolean values\n",
    "s = df['artist'] == 'Bacon, Francis'"
   ]
  },
  {
   "cell_type": "code",
   "execution_count": 13,
   "metadata": {},
   "outputs": [
    {
     "data": {
      "text/plain": [
       "pandas.core.series.Series"
      ]
     },
     "execution_count": 13,
     "metadata": {},
     "output_type": "execute_result"
    }
   ],
   "source": [
    "type(s)"
   ]
  },
  {
   "cell_type": "code",
   "execution_count": 14,
   "metadata": {},
   "outputs": [
    {
     "data": {
      "text/plain": [
       "id\n",
       "1035      False\n",
       "1036      False\n",
       "1037      False\n",
       "1038      False\n",
       "1039      False\n",
       "          ...  \n",
       "122960    False\n",
       "122961    False\n",
       "121181    False\n",
       "112306    False\n",
       "127035    False\n",
       "Name: artist, Length: 69201, dtype: bool"
      ]
     },
     "execution_count": 14,
     "metadata": {},
     "output_type": "execute_result"
    }
   ],
   "source": [
    "s"
   ]
  },
  {
   "cell_type": "code",
   "execution_count": 15,
   "metadata": {},
   "outputs": [
    {
     "data": {
      "text/plain": [
       "False    69151\n",
       "True        50\n",
       "Name: artist, dtype: int64"
      ]
     },
     "execution_count": 15,
     "metadata": {},
     "output_type": "execute_result"
    }
   ],
   "source": [
    "s.value_counts()"
   ]
  },
  {
   "cell_type": "markdown",
   "metadata": {},
   "source": [
    "Let's explore an alternate way of achieving the same result"
   ]
  },
  {
   "cell_type": "code",
   "execution_count": 16,
   "metadata": {},
   "outputs": [],
   "source": [
    "# Create a series with artist names and a count of occurrences \n",
    "artist_counts = df['artist'].value_counts()"
   ]
  },
  {
   "cell_type": "code",
   "execution_count": 17,
   "metadata": {},
   "outputs": [
    {
     "data": {
      "text/plain": [
       "Turner, Joseph Mallord William    39389\n",
       "Jones, George                      1046\n",
       "Moore, Henry, OM, CH                623\n",
       "Daniell, William                    612\n",
       "Beuys, Joseph                       578\n",
       "                                  ...  \n",
       "Chandra, Avinash                      1\n",
       "Bohm, Dorothy                         1\n",
       "Unwin, Marianne                       1\n",
       "Carter, Hugh                          1\n",
       "MacWhirter, John                      1\n",
       "Name: artist, Length: 3336, dtype: int64"
      ]
     },
     "execution_count": 17,
     "metadata": {},
     "output_type": "execute_result"
    }
   ],
   "source": [
    "artist_counts"
   ]
  },
  {
   "cell_type": "code",
   "execution_count": 18,
   "metadata": {},
   "outputs": [
    {
     "data": {
      "text/plain": [
       "50"
      ]
     },
     "execution_count": 18,
     "metadata": {},
     "output_type": "execute_result"
    }
   ],
   "source": [
    "artist_counts['Bacon, Francis']"
   ]
  },
  {
   "cell_type": "markdown",
   "metadata": {},
   "source": [
    "### Accessing rows and columns"
   ]
  },
  {
   "cell_type": "markdown",
   "metadata": {},
   "source": [
    "#### [loc](https://pandas.pydata.org/pandas-docs/stable/reference/api/pandas.DataFrame.loc.html#pandas-dataframe-loc) - Access a group of rows and columns by label(s) or a boolean array."
   ]
  },
  {
   "cell_type": "code",
   "execution_count": 19,
   "metadata": {},
   "outputs": [
    {
     "data": {
      "text/plain": [
       "property"
      ]
     },
     "execution_count": 19,
     "metadata": {},
     "output_type": "execute_result"
    }
   ],
   "source": [
    "type(pd.DataFrame.loc)"
   ]
  },
  {
   "cell_type": "code",
   "execution_count": 20,
   "metadata": {},
   "outputs": [
    {
     "data": {
      "text/plain": [
       "'Blake, Robert'"
      ]
     },
     "execution_count": 20,
     "metadata": {},
     "output_type": "execute_result"
    }
   ],
   "source": [
    "# df.loc[row indexer expression, column indexer expression]\n",
    "df.loc[1035, 'artist']"
   ]
  },
  {
   "cell_type": "code",
   "execution_count": 21,
   "metadata": {},
   "outputs": [
    {
     "data": {
      "text/html": [
       "<div>\n",
       "<style scoped>\n",
       "    .dataframe tbody tr th:only-of-type {\n",
       "        vertical-align: middle;\n",
       "    }\n",
       "\n",
       "    .dataframe tbody tr th {\n",
       "        vertical-align: top;\n",
       "    }\n",
       "\n",
       "    .dataframe thead th {\n",
       "        text-align: right;\n",
       "    }\n",
       "</style>\n",
       "<table border=\"1\" class=\"dataframe\">\n",
       "  <thead>\n",
       "    <tr style=\"text-align: right;\">\n",
       "      <th></th>\n",
       "      <th>artist</th>\n",
       "      <th>title</th>\n",
       "      <th>medium</th>\n",
       "      <th>year</th>\n",
       "      <th>acquisitionYear</th>\n",
       "      <th>width</th>\n",
       "      <th>height</th>\n",
       "      <th>units</th>\n",
       "    </tr>\n",
       "    <tr>\n",
       "      <th>id</th>\n",
       "      <th></th>\n",
       "      <th></th>\n",
       "      <th></th>\n",
       "      <th></th>\n",
       "      <th></th>\n",
       "      <th></th>\n",
       "      <th></th>\n",
       "      <th></th>\n",
       "    </tr>\n",
       "  </thead>\n",
       "  <tbody>\n",
       "    <tr>\n",
       "      <td>672</td>\n",
       "      <td>Bacon, Francis</td>\n",
       "      <td>Figure in a Landscape</td>\n",
       "      <td>Oil paint on canvas</td>\n",
       "      <td>1945</td>\n",
       "      <td>1950.0</td>\n",
       "      <td>1448</td>\n",
       "      <td>1283</td>\n",
       "      <td>mm</td>\n",
       "    </tr>\n",
       "    <tr>\n",
       "      <td>673</td>\n",
       "      <td>Bacon, Francis</td>\n",
       "      <td>Study of a Dog</td>\n",
       "      <td>Oil paint on canvas</td>\n",
       "      <td>1952</td>\n",
       "      <td>1952.0</td>\n",
       "      <td>1981</td>\n",
       "      <td>1372</td>\n",
       "      <td>mm</td>\n",
       "    </tr>\n",
       "    <tr>\n",
       "      <td>674</td>\n",
       "      <td>Bacon, Francis</td>\n",
       "      <td>Three Studies for Figures at the Base of a Cru...</td>\n",
       "      <td>Oil paint on 3 boards</td>\n",
       "      <td>1944</td>\n",
       "      <td>1953.0</td>\n",
       "      <td>NaN</td>\n",
       "      <td>NaN</td>\n",
       "      <td>NaN</td>\n",
       "    </tr>\n",
       "    <tr>\n",
       "      <td>677</td>\n",
       "      <td>Bacon, Francis</td>\n",
       "      <td>Study for a Portrait of Van Gogh IV</td>\n",
       "      <td>Oil paint on canvas</td>\n",
       "      <td>1957</td>\n",
       "      <td>1958.0</td>\n",
       "      <td>1524</td>\n",
       "      <td>1168</td>\n",
       "      <td>mm</td>\n",
       "    </tr>\n",
       "    <tr>\n",
       "      <td>678</td>\n",
       "      <td>Bacon, Francis</td>\n",
       "      <td>Reclining Woman</td>\n",
       "      <td>Oil paint on canvas</td>\n",
       "      <td>1961</td>\n",
       "      <td>1961.0</td>\n",
       "      <td>1988</td>\n",
       "      <td>1416</td>\n",
       "      <td>mm</td>\n",
       "    </tr>\n",
       "    <tr>\n",
       "      <td>679</td>\n",
       "      <td>Bacon, Francis</td>\n",
       "      <td>Seated Figure</td>\n",
       "      <td>Oil paint on canvas</td>\n",
       "      <td>1961</td>\n",
       "      <td>1961.0</td>\n",
       "      <td>1651</td>\n",
       "      <td>1422</td>\n",
       "      <td>mm</td>\n",
       "    </tr>\n",
       "    <tr>\n",
       "      <td>680</td>\n",
       "      <td>Bacon, Francis</td>\n",
       "      <td>Study for Portrait on Folding Bed</td>\n",
       "      <td>Oil paint on canvas</td>\n",
       "      <td>1963</td>\n",
       "      <td>1963.0</td>\n",
       "      <td>1981</td>\n",
       "      <td>1473</td>\n",
       "      <td>mm</td>\n",
       "    </tr>\n",
       "    <tr>\n",
       "      <td>681</td>\n",
       "      <td>Bacon, Francis</td>\n",
       "      <td>Portrait of Isabel Rawsthorne</td>\n",
       "      <td>Oil paint on canvas</td>\n",
       "      <td>1966</td>\n",
       "      <td>1966.0</td>\n",
       "      <td>813</td>\n",
       "      <td>686</td>\n",
       "      <td>mm</td>\n",
       "    </tr>\n",
       "    <tr>\n",
       "      <td>682</td>\n",
       "      <td>Bacon, Francis</td>\n",
       "      <td>Three Figures and Portrait</td>\n",
       "      <td>Oil paint and pastel on canvas</td>\n",
       "      <td>1975</td>\n",
       "      <td>1977.0</td>\n",
       "      <td>1981</td>\n",
       "      <td>1473</td>\n",
       "      <td>mm</td>\n",
       "    </tr>\n",
       "    <tr>\n",
       "      <td>683</td>\n",
       "      <td>Bacon, Francis</td>\n",
       "      <td>Study for Portrait II (after the Life Mask of ...</td>\n",
       "      <td>Oil paint on canvas</td>\n",
       "      <td>1955</td>\n",
       "      <td>1979.0</td>\n",
       "      <td>610</td>\n",
       "      <td>508</td>\n",
       "      <td>mm</td>\n",
       "    </tr>\n",
       "    <tr>\n",
       "      <td>684</td>\n",
       "      <td>Bacon, Francis</td>\n",
       "      <td>Triptych - August 1972</td>\n",
       "      <td>Oil paint on 3 canvases</td>\n",
       "      <td>1972</td>\n",
       "      <td>1980.0</td>\n",
       "      <td>NaN</td>\n",
       "      <td>NaN</td>\n",
       "      <td>NaN</td>\n",
       "    </tr>\n",
       "    <tr>\n",
       "      <td>19509</td>\n",
       "      <td>Bacon, Francis</td>\n",
       "      <td>Second Version of Triptych 1944</td>\n",
       "      <td>Oil paint and acrylic paint on 3 canvases</td>\n",
       "      <td>1988</td>\n",
       "      <td>1991.0</td>\n",
       "      <td>NaN</td>\n",
       "      <td>NaN</td>\n",
       "      <td>NaN</td>\n",
       "    </tr>\n",
       "    <tr>\n",
       "      <td>26004</td>\n",
       "      <td>Bacon, Francis</td>\n",
       "      <td>Figure in a Landscape</td>\n",
       "      <td>Oil paint on paper</td>\n",
       "      <td>1952</td>\n",
       "      <td>1998.0</td>\n",
       "      <td>339</td>\n",
       "      <td>263</td>\n",
       "      <td>mm</td>\n",
       "    </tr>\n",
       "    <tr>\n",
       "      <td>26003</td>\n",
       "      <td>Bacon, Francis</td>\n",
       "      <td>Turning Figure</td>\n",
       "      <td>Graphite and oil paint on paper</td>\n",
       "      <td>1959</td>\n",
       "      <td>1998.0</td>\n",
       "      <td>339</td>\n",
       "      <td>263</td>\n",
       "      <td>mm</td>\n",
       "    </tr>\n",
       "    <tr>\n",
       "      <td>26001</td>\n",
       "      <td>Bacon, Francis</td>\n",
       "      <td>Reclining Figure, No. 1</td>\n",
       "      <td>Oil paint and ink on paper</td>\n",
       "      <td>1961</td>\n",
       "      <td>1998.0</td>\n",
       "      <td>238</td>\n",
       "      <td>156</td>\n",
       "      <td>mm</td>\n",
       "    </tr>\n",
       "    <tr>\n",
       "      <td>26002</td>\n",
       "      <td>Bacon, Francis</td>\n",
       "      <td>Reclining Figure, No. 2</td>\n",
       "      <td>Oil paint and ink on paper</td>\n",
       "      <td>1961</td>\n",
       "      <td>1998.0</td>\n",
       "      <td>222</td>\n",
       "      <td>150</td>\n",
       "      <td>mm</td>\n",
       "    </tr>\n",
       "    <tr>\n",
       "      <td>26025</td>\n",
       "      <td>Bacon, Francis</td>\n",
       "      <td>Two Owls, No. 1</td>\n",
       "      <td>Graphite and oil paint on paper</td>\n",
       "      <td>1957</td>\n",
       "      <td>1998.0</td>\n",
       "      <td>270</td>\n",
       "      <td>340</td>\n",
       "      <td>mm</td>\n",
       "    </tr>\n",
       "    <tr>\n",
       "      <td>26060</td>\n",
       "      <td>Bacon, Francis</td>\n",
       "      <td>Figure in a Framework</td>\n",
       "      <td>Graphite and oil paint on paper</td>\n",
       "      <td>1957</td>\n",
       "      <td>1998.0</td>\n",
       "      <td>340</td>\n",
       "      <td>270</td>\n",
       "      <td>mm</td>\n",
       "    </tr>\n",
       "    <tr>\n",
       "      <td>26059</td>\n",
       "      <td>Bacon, Francis</td>\n",
       "      <td>Collapsed Figure</td>\n",
       "      <td>Oil paint on paper</td>\n",
       "      <td>1957</td>\n",
       "      <td>1998.0</td>\n",
       "      <td>340</td>\n",
       "      <td>270</td>\n",
       "      <td>mm</td>\n",
       "    </tr>\n",
       "    <tr>\n",
       "      <td>26026</td>\n",
       "      <td>Bacon, Francis</td>\n",
       "      <td>Figure Bending Forwards</td>\n",
       "      <td>Oil paint on paper</td>\n",
       "      <td>1957</td>\n",
       "      <td>1998.0</td>\n",
       "      <td>340</td>\n",
       "      <td>270</td>\n",
       "      <td>mm</td>\n",
       "    </tr>\n",
       "    <tr>\n",
       "      <td>26058</td>\n",
       "      <td>Bacon, Francis</td>\n",
       "      <td>Two Owls, No. 2</td>\n",
       "      <td>Oil paint on paper</td>\n",
       "      <td>1957</td>\n",
       "      <td>1998.0</td>\n",
       "      <td>340</td>\n",
       "      <td>270</td>\n",
       "      <td>mm</td>\n",
       "    </tr>\n",
       "    <tr>\n",
       "      <td>26057</td>\n",
       "      <td>Bacon, Francis</td>\n",
       "      <td>Falling Figure</td>\n",
       "      <td>Graphite and oil paint on paper</td>\n",
       "      <td>1957</td>\n",
       "      <td>1998.0</td>\n",
       "      <td>340</td>\n",
       "      <td>270</td>\n",
       "      <td>mm</td>\n",
       "    </tr>\n",
       "    <tr>\n",
       "      <td>26055</td>\n",
       "      <td>Bacon, Francis</td>\n",
       "      <td>Figure with Left Arm Raised, No. 1</td>\n",
       "      <td>Oil paint on paper</td>\n",
       "      <td>1957</td>\n",
       "      <td>1998.0</td>\n",
       "      <td>340</td>\n",
       "      <td>270</td>\n",
       "      <td>mm</td>\n",
       "    </tr>\n",
       "    <tr>\n",
       "      <td>26056</td>\n",
       "      <td>Bacon, Francis</td>\n",
       "      <td>Figure with Left Arm Raised, No. 2</td>\n",
       "      <td>Oil paint on paper</td>\n",
       "      <td>1957</td>\n",
       "      <td>1998.0</td>\n",
       "      <td>340</td>\n",
       "      <td>270</td>\n",
       "      <td>mm</td>\n",
       "    </tr>\n",
       "    <tr>\n",
       "      <td>26054</td>\n",
       "      <td>Bacon, Francis</td>\n",
       "      <td>Figure with Arms Swung Out</td>\n",
       "      <td>Oil paint on paper</td>\n",
       "      <td>1957</td>\n",
       "      <td>1998.0</td>\n",
       "      <td>340</td>\n",
       "      <td>265</td>\n",
       "      <td>mm</td>\n",
       "    </tr>\n",
       "    <tr>\n",
       "      <td>26053</td>\n",
       "      <td>Bacon, Francis</td>\n",
       "      <td>Seated Figure</td>\n",
       "      <td>Graphite on paper</td>\n",
       "      <td>1957</td>\n",
       "      <td>1998.0</td>\n",
       "      <td>340</td>\n",
       "      <td>270</td>\n",
       "      <td>mm</td>\n",
       "    </tr>\n",
       "    <tr>\n",
       "      <td>26052</td>\n",
       "      <td>Bacon, Francis</td>\n",
       "      <td>Figure Lying Flat</td>\n",
       "      <td>Graphite and oil paint on paper</td>\n",
       "      <td>1957</td>\n",
       "      <td>1998.0</td>\n",
       "      <td>340</td>\n",
       "      <td>270</td>\n",
       "      <td>mm</td>\n",
       "    </tr>\n",
       "    <tr>\n",
       "      <td>26051</td>\n",
       "      <td>Bacon, Francis</td>\n",
       "      <td>Figure in Grey Interior</td>\n",
       "      <td>Graphite and oil paint on paper</td>\n",
       "      <td>1957</td>\n",
       "      <td>1998.0</td>\n",
       "      <td>340</td>\n",
       "      <td>270</td>\n",
       "      <td>mm</td>\n",
       "    </tr>\n",
       "    <tr>\n",
       "      <td>26050</td>\n",
       "      <td>Bacon, Francis</td>\n",
       "      <td>Standing Figure</td>\n",
       "      <td>Ink on paper</td>\n",
       "      <td>1957</td>\n",
       "      <td>1998.0</td>\n",
       "      <td>340</td>\n",
       "      <td>270</td>\n",
       "      <td>mm</td>\n",
       "    </tr>\n",
       "    <tr>\n",
       "      <td>26049</td>\n",
       "      <td>Bacon, Francis</td>\n",
       "      <td>Figure with Foot in Hand</td>\n",
       "      <td>Oil paint and ink on paper</td>\n",
       "      <td>1957</td>\n",
       "      <td>1998.0</td>\n",
       "      <td>270</td>\n",
       "      <td>340</td>\n",
       "      <td>mm</td>\n",
       "    </tr>\n",
       "    <tr>\n",
       "      <td>26048</td>\n",
       "      <td>Bacon, Francis</td>\n",
       "      <td>Fallen Figure</td>\n",
       "      <td>Oil paint on paper</td>\n",
       "      <td>1957</td>\n",
       "      <td>1998.0</td>\n",
       "      <td>340</td>\n",
       "      <td>270</td>\n",
       "      <td>mm</td>\n",
       "    </tr>\n",
       "    <tr>\n",
       "      <td>26047</td>\n",
       "      <td>Bacon, Francis</td>\n",
       "      <td>Fallen Figure with Arms Up</td>\n",
       "      <td>Oil paint on paper</td>\n",
       "      <td>1957</td>\n",
       "      <td>1998.0</td>\n",
       "      <td>340</td>\n",
       "      <td>270</td>\n",
       "      <td>mm</td>\n",
       "    </tr>\n",
       "    <tr>\n",
       "      <td>26046</td>\n",
       "      <td>Bacon, Francis</td>\n",
       "      <td>Bending Figure, No. 1</td>\n",
       "      <td>Oil paint on paper</td>\n",
       "      <td>1957</td>\n",
       "      <td>1998.0</td>\n",
       "      <td>340</td>\n",
       "      <td>270</td>\n",
       "      <td>mm</td>\n",
       "    </tr>\n",
       "    <tr>\n",
       "      <td>26045</td>\n",
       "      <td>Bacon, Francis</td>\n",
       "      <td>Figure Crawling</td>\n",
       "      <td>Oil paint on paper</td>\n",
       "      <td>1957</td>\n",
       "      <td>1998.0</td>\n",
       "      <td>340</td>\n",
       "      <td>270</td>\n",
       "      <td>mm</td>\n",
       "    </tr>\n",
       "    <tr>\n",
       "      <td>26044</td>\n",
       "      <td>Bacon, Francis</td>\n",
       "      <td>Head</td>\n",
       "      <td>Oil paint on paper</td>\n",
       "      <td>1957</td>\n",
       "      <td>1998.0</td>\n",
       "      <td>340</td>\n",
       "      <td>270</td>\n",
       "      <td>mm</td>\n",
       "    </tr>\n",
       "    <tr>\n",
       "      <td>26043</td>\n",
       "      <td>Bacon, Francis</td>\n",
       "      <td>Figure Lying, No. 1</td>\n",
       "      <td>Oil paint on paper</td>\n",
       "      <td>1957</td>\n",
       "      <td>1998.0</td>\n",
       "      <td>340</td>\n",
       "      <td>270</td>\n",
       "      <td>mm</td>\n",
       "    </tr>\n",
       "    <tr>\n",
       "      <td>26042</td>\n",
       "      <td>Bacon, Francis</td>\n",
       "      <td>Figure Lying, No. 2</td>\n",
       "      <td>Oil paint on paper</td>\n",
       "      <td>1957</td>\n",
       "      <td>1998.0</td>\n",
       "      <td>340</td>\n",
       "      <td>270</td>\n",
       "      <td>mm</td>\n",
       "    </tr>\n",
       "    <tr>\n",
       "      <td>26041</td>\n",
       "      <td>Bacon, Francis</td>\n",
       "      <td>Blue Crawling Figure, No. 1</td>\n",
       "      <td>Oil paint on paper</td>\n",
       "      <td>1957</td>\n",
       "      <td>1998.0</td>\n",
       "      <td>340</td>\n",
       "      <td>270</td>\n",
       "      <td>mm</td>\n",
       "    </tr>\n",
       "    <tr>\n",
       "      <td>26040</td>\n",
       "      <td>Bacon, Francis</td>\n",
       "      <td>Blue Crawling Figure, No. 2</td>\n",
       "      <td>Oil paint on paper</td>\n",
       "      <td>1957</td>\n",
       "      <td>1998.0</td>\n",
       "      <td>340</td>\n",
       "      <td>270</td>\n",
       "      <td>mm</td>\n",
       "    </tr>\n",
       "    <tr>\n",
       "      <td>26039</td>\n",
       "      <td>Bacon, Francis</td>\n",
       "      <td>Pink Crawling Figure</td>\n",
       "      <td>Oil paint and ink on paper</td>\n",
       "      <td>1957</td>\n",
       "      <td>1998.0</td>\n",
       "      <td>340</td>\n",
       "      <td>270</td>\n",
       "      <td>mm</td>\n",
       "    </tr>\n",
       "    <tr>\n",
       "      <td>26038</td>\n",
       "      <td>Bacon, Francis</td>\n",
       "      <td>Bending Figure, No. 2</td>\n",
       "      <td>Ink and oil paint on paper</td>\n",
       "      <td>1957</td>\n",
       "      <td>1998.0</td>\n",
       "      <td>340</td>\n",
       "      <td>270</td>\n",
       "      <td>mm</td>\n",
       "    </tr>\n",
       "    <tr>\n",
       "      <td>26037</td>\n",
       "      <td>Bacon, Francis</td>\n",
       "      <td>Composition</td>\n",
       "      <td>Oil paint on paper</td>\n",
       "      <td>1957</td>\n",
       "      <td>1998.0</td>\n",
       "      <td>340</td>\n",
       "      <td>270</td>\n",
       "      <td>mm</td>\n",
       "    </tr>\n",
       "    <tr>\n",
       "      <td>26036</td>\n",
       "      <td>Bacon, Francis</td>\n",
       "      <td>Man on a Bed</td>\n",
       "      <td>Graphite on paper</td>\n",
       "      <td>1957</td>\n",
       "      <td>1998.0</td>\n",
       "      <td>254</td>\n",
       "      <td>190</td>\n",
       "      <td>mm</td>\n",
       "    </tr>\n",
       "    <tr>\n",
       "      <td>26035</td>\n",
       "      <td>Bacon, Francis</td>\n",
       "      <td>Man on a Sofa</td>\n",
       "      <td>Oil paint on paper</td>\n",
       "      <td>1957</td>\n",
       "      <td>1998.0</td>\n",
       "      <td>254</td>\n",
       "      <td>190</td>\n",
       "      <td>mm</td>\n",
       "    </tr>\n",
       "    <tr>\n",
       "      <td>26034</td>\n",
       "      <td>Bacon, Francis</td>\n",
       "      <td>Nude Reading</td>\n",
       "      <td>Graphite and oil paint on paper</td>\n",
       "      <td>1957</td>\n",
       "      <td>1998.0</td>\n",
       "      <td>254</td>\n",
       "      <td>190</td>\n",
       "      <td>mm</td>\n",
       "    </tr>\n",
       "    <tr>\n",
       "      <td>26033</td>\n",
       "      <td>Bacon, Francis</td>\n",
       "      <td>Cross-legged Figure with Arms Raised, No. 1</td>\n",
       "      <td>Graphite on paper</td>\n",
       "      <td>1957</td>\n",
       "      <td>1998.0</td>\n",
       "      <td>254</td>\n",
       "      <td>190</td>\n",
       "      <td>mm</td>\n",
       "    </tr>\n",
       "    <tr>\n",
       "      <td>26032</td>\n",
       "      <td>Bacon, Francis</td>\n",
       "      <td>Cross-legged Figure with Arms Raised, No. 2</td>\n",
       "      <td>Oil paint on paper</td>\n",
       "      <td>1957</td>\n",
       "      <td>1998.0</td>\n",
       "      <td>254</td>\n",
       "      <td>190</td>\n",
       "      <td>mm</td>\n",
       "    </tr>\n",
       "    <tr>\n",
       "      <td>26031</td>\n",
       "      <td>Bacon, Francis</td>\n",
       "      <td>Seated Woman</td>\n",
       "      <td>Graphite on paper</td>\n",
       "      <td>1957</td>\n",
       "      <td>1998.0</td>\n",
       "      <td>254</td>\n",
       "      <td>190</td>\n",
       "      <td>mm</td>\n",
       "    </tr>\n",
       "    <tr>\n",
       "      <td>21897</td>\n",
       "      <td>Bacon, Francis</td>\n",
       "      <td>Figures in a Garden</td>\n",
       "      <td>Oil paint on canvas</td>\n",
       "      <td>1936</td>\n",
       "      <td>2008.0</td>\n",
       "      <td>740</td>\n",
       "      <td>940</td>\n",
       "      <td>mm</td>\n",
       "    </tr>\n",
       "    <tr>\n",
       "      <td>111</td>\n",
       "      <td>Bacon, Francis</td>\n",
       "      <td>Study for a Portrait</td>\n",
       "      <td>Oil paint and sand on canvas</td>\n",
       "      <td>1952</td>\n",
       "      <td>2008.0</td>\n",
       "      <td>661</td>\n",
       "      <td>561</td>\n",
       "      <td>mm</td>\n",
       "    </tr>\n",
       "  </tbody>\n",
       "</table>\n",
       "</div>"
      ],
      "text/plain": [
       "               artist                                              title  \\\n",
       "id                                                                         \n",
       "672    Bacon, Francis                              Figure in a Landscape   \n",
       "673    Bacon, Francis                                     Study of a Dog   \n",
       "674    Bacon, Francis  Three Studies for Figures at the Base of a Cru...   \n",
       "677    Bacon, Francis                Study for a Portrait of Van Gogh IV   \n",
       "678    Bacon, Francis                                    Reclining Woman   \n",
       "679    Bacon, Francis                                      Seated Figure   \n",
       "680    Bacon, Francis                  Study for Portrait on Folding Bed   \n",
       "681    Bacon, Francis                      Portrait of Isabel Rawsthorne   \n",
       "682    Bacon, Francis                         Three Figures and Portrait   \n",
       "683    Bacon, Francis  Study for Portrait II (after the Life Mask of ...   \n",
       "684    Bacon, Francis                             Triptych - August 1972   \n",
       "19509  Bacon, Francis                    Second Version of Triptych 1944   \n",
       "26004  Bacon, Francis                              Figure in a Landscape   \n",
       "26003  Bacon, Francis                                     Turning Figure   \n",
       "26001  Bacon, Francis                            Reclining Figure, No. 1   \n",
       "26002  Bacon, Francis                            Reclining Figure, No. 2   \n",
       "26025  Bacon, Francis                                    Two Owls, No. 1   \n",
       "26060  Bacon, Francis                              Figure in a Framework   \n",
       "26059  Bacon, Francis                                   Collapsed Figure   \n",
       "26026  Bacon, Francis                            Figure Bending Forwards   \n",
       "26058  Bacon, Francis                                    Two Owls, No. 2   \n",
       "26057  Bacon, Francis                                     Falling Figure   \n",
       "26055  Bacon, Francis                 Figure with Left Arm Raised, No. 1   \n",
       "26056  Bacon, Francis                 Figure with Left Arm Raised, No. 2   \n",
       "26054  Bacon, Francis                         Figure with Arms Swung Out   \n",
       "26053  Bacon, Francis                                      Seated Figure   \n",
       "26052  Bacon, Francis                                  Figure Lying Flat   \n",
       "26051  Bacon, Francis                            Figure in Grey Interior   \n",
       "26050  Bacon, Francis                                    Standing Figure   \n",
       "26049  Bacon, Francis                           Figure with Foot in Hand   \n",
       "26048  Bacon, Francis                                      Fallen Figure   \n",
       "26047  Bacon, Francis                         Fallen Figure with Arms Up   \n",
       "26046  Bacon, Francis                              Bending Figure, No. 1   \n",
       "26045  Bacon, Francis                                    Figure Crawling   \n",
       "26044  Bacon, Francis                                               Head   \n",
       "26043  Bacon, Francis                                Figure Lying, No. 1   \n",
       "26042  Bacon, Francis                                Figure Lying, No. 2   \n",
       "26041  Bacon, Francis                        Blue Crawling Figure, No. 1   \n",
       "26040  Bacon, Francis                        Blue Crawling Figure, No. 2   \n",
       "26039  Bacon, Francis                               Pink Crawling Figure   \n",
       "26038  Bacon, Francis                              Bending Figure, No. 2   \n",
       "26037  Bacon, Francis                                        Composition   \n",
       "26036  Bacon, Francis                                       Man on a Bed   \n",
       "26035  Bacon, Francis                                      Man on a Sofa   \n",
       "26034  Bacon, Francis                                       Nude Reading   \n",
       "26033  Bacon, Francis        Cross-legged Figure with Arms Raised, No. 1   \n",
       "26032  Bacon, Francis        Cross-legged Figure with Arms Raised, No. 2   \n",
       "26031  Bacon, Francis                                       Seated Woman   \n",
       "21897  Bacon, Francis                                Figures in a Garden   \n",
       "111    Bacon, Francis                               Study for a Portrait   \n",
       "\n",
       "                                          medium  year  acquisitionYear width  \\\n",
       "id                                                                              \n",
       "672                          Oil paint on canvas  1945           1950.0  1448   \n",
       "673                          Oil paint on canvas  1952           1952.0  1981   \n",
       "674                        Oil paint on 3 boards  1944           1953.0   NaN   \n",
       "677                          Oil paint on canvas  1957           1958.0  1524   \n",
       "678                          Oil paint on canvas  1961           1961.0  1988   \n",
       "679                          Oil paint on canvas  1961           1961.0  1651   \n",
       "680                          Oil paint on canvas  1963           1963.0  1981   \n",
       "681                          Oil paint on canvas  1966           1966.0   813   \n",
       "682               Oil paint and pastel on canvas  1975           1977.0  1981   \n",
       "683                          Oil paint on canvas  1955           1979.0   610   \n",
       "684                      Oil paint on 3 canvases  1972           1980.0   NaN   \n",
       "19509  Oil paint and acrylic paint on 3 canvases  1988           1991.0   NaN   \n",
       "26004                         Oil paint on paper  1952           1998.0   339   \n",
       "26003            Graphite and oil paint on paper  1959           1998.0   339   \n",
       "26001                 Oil paint and ink on paper  1961           1998.0   238   \n",
       "26002                 Oil paint and ink on paper  1961           1998.0   222   \n",
       "26025            Graphite and oil paint on paper  1957           1998.0   270   \n",
       "26060            Graphite and oil paint on paper  1957           1998.0   340   \n",
       "26059                         Oil paint on paper  1957           1998.0   340   \n",
       "26026                         Oil paint on paper  1957           1998.0   340   \n",
       "26058                         Oil paint on paper  1957           1998.0   340   \n",
       "26057            Graphite and oil paint on paper  1957           1998.0   340   \n",
       "26055                         Oil paint on paper  1957           1998.0   340   \n",
       "26056                         Oil paint on paper  1957           1998.0   340   \n",
       "26054                         Oil paint on paper  1957           1998.0   340   \n",
       "26053                          Graphite on paper  1957           1998.0   340   \n",
       "26052            Graphite and oil paint on paper  1957           1998.0   340   \n",
       "26051            Graphite and oil paint on paper  1957           1998.0   340   \n",
       "26050                               Ink on paper  1957           1998.0   340   \n",
       "26049                 Oil paint and ink on paper  1957           1998.0   270   \n",
       "26048                         Oil paint on paper  1957           1998.0   340   \n",
       "26047                         Oil paint on paper  1957           1998.0   340   \n",
       "26046                         Oil paint on paper  1957           1998.0   340   \n",
       "26045                         Oil paint on paper  1957           1998.0   340   \n",
       "26044                         Oil paint on paper  1957           1998.0   340   \n",
       "26043                         Oil paint on paper  1957           1998.0   340   \n",
       "26042                         Oil paint on paper  1957           1998.0   340   \n",
       "26041                         Oil paint on paper  1957           1998.0   340   \n",
       "26040                         Oil paint on paper  1957           1998.0   340   \n",
       "26039                 Oil paint and ink on paper  1957           1998.0   340   \n",
       "26038                 Ink and oil paint on paper  1957           1998.0   340   \n",
       "26037                         Oil paint on paper  1957           1998.0   340   \n",
       "26036                          Graphite on paper  1957           1998.0   254   \n",
       "26035                         Oil paint on paper  1957           1998.0   254   \n",
       "26034            Graphite and oil paint on paper  1957           1998.0   254   \n",
       "26033                          Graphite on paper  1957           1998.0   254   \n",
       "26032                         Oil paint on paper  1957           1998.0   254   \n",
       "26031                          Graphite on paper  1957           1998.0   254   \n",
       "21897                        Oil paint on canvas  1936           2008.0   740   \n",
       "111                 Oil paint and sand on canvas  1952           2008.0   661   \n",
       "\n",
       "      height units  \n",
       "id                  \n",
       "672     1283    mm  \n",
       "673     1372    mm  \n",
       "674      NaN   NaN  \n",
       "677     1168    mm  \n",
       "678     1416    mm  \n",
       "679     1422    mm  \n",
       "680     1473    mm  \n",
       "681      686    mm  \n",
       "682     1473    mm  \n",
       "683      508    mm  \n",
       "684      NaN   NaN  \n",
       "19509    NaN   NaN  \n",
       "26004    263    mm  \n",
       "26003    263    mm  \n",
       "26001    156    mm  \n",
       "26002    150    mm  \n",
       "26025    340    mm  \n",
       "26060    270    mm  \n",
       "26059    270    mm  \n",
       "26026    270    mm  \n",
       "26058    270    mm  \n",
       "26057    270    mm  \n",
       "26055    270    mm  \n",
       "26056    270    mm  \n",
       "26054    265    mm  \n",
       "26053    270    mm  \n",
       "26052    270    mm  \n",
       "26051    270    mm  \n",
       "26050    270    mm  \n",
       "26049    340    mm  \n",
       "26048    270    mm  \n",
       "26047    270    mm  \n",
       "26046    270    mm  \n",
       "26045    270    mm  \n",
       "26044    270    mm  \n",
       "26043    270    mm  \n",
       "26042    270    mm  \n",
       "26041    270    mm  \n",
       "26040    270    mm  \n",
       "26039    270    mm  \n",
       "26038    270    mm  \n",
       "26037    270    mm  \n",
       "26036    190    mm  \n",
       "26035    190    mm  \n",
       "26034    190    mm  \n",
       "26033    190    mm  \n",
       "26032    190    mm  \n",
       "26031    190    mm  \n",
       "21897    940    mm  \n",
       "111      561    mm  "
      ]
     },
     "execution_count": 21,
     "metadata": {},
     "output_type": "execute_result"
    }
   ],
   "source": [
    "# loc with boolean value\n",
    "# this expression retrieves all entries where the artist is Francis Bacon.\n",
    "df.loc[df['artist'] == 'Bacon, Francis', :]"
   ]
  },
  {
   "cell_type": "markdown",
   "metadata": {},
   "source": [
    "#### [iloc](https://pandas.pydata.org/pandas-docs/stable/reference/api/pandas.DataFrame.iloc.html#pandas.DataFrame.iloc) - Integer based indexing."
   ]
  },
  {
   "cell_type": "code",
   "execution_count": 22,
   "metadata": {},
   "outputs": [
    {
     "data": {
      "text/plain": [
       "property"
      ]
     },
     "execution_count": 22,
     "metadata": {},
     "output_type": "execute_result"
    }
   ],
   "source": [
    "type(pd.DataFrame.iloc)"
   ]
  },
  {
   "cell_type": "code",
   "execution_count": 23,
   "metadata": {},
   "outputs": [
    {
     "data": {
      "text/html": [
       "<div>\n",
       "<style scoped>\n",
       "    .dataframe tbody tr th:only-of-type {\n",
       "        vertical-align: middle;\n",
       "    }\n",
       "\n",
       "    .dataframe tbody tr th {\n",
       "        vertical-align: top;\n",
       "    }\n",
       "\n",
       "    .dataframe thead th {\n",
       "        text-align: right;\n",
       "    }\n",
       "</style>\n",
       "<table border=\"1\" class=\"dataframe\">\n",
       "  <thead>\n",
       "    <tr style=\"text-align: right;\">\n",
       "      <th></th>\n",
       "      <th>artist</th>\n",
       "      <th>title</th>\n",
       "      <th>acquisitionYear</th>\n",
       "    </tr>\n",
       "    <tr>\n",
       "      <th>id</th>\n",
       "      <th></th>\n",
       "      <th></th>\n",
       "      <th></th>\n",
       "    </tr>\n",
       "  </thead>\n",
       "  <tbody>\n",
       "    <tr>\n",
       "      <td>1737</td>\n",
       "      <td>Burne-Jones, Sir Edward Coley, Bt</td>\n",
       "      <td>Head of a Girl</td>\n",
       "      <td>1927.0</td>\n",
       "    </tr>\n",
       "    <tr>\n",
       "      <td>1738</td>\n",
       "      <td>Burne-Jones, Sir Edward Coley, Bt</td>\n",
       "      <td>Figure Study</td>\n",
       "      <td>1927.0</td>\n",
       "    </tr>\n",
       "    <tr>\n",
       "      <td>1739</td>\n",
       "      <td>Burne-Jones, Sir Edward Coley, Bt</td>\n",
       "      <td>Study of the Head of a Female Attendant for ‘T...</td>\n",
       "      <td>1927.0</td>\n",
       "    </tr>\n",
       "    <tr>\n",
       "      <td>20231</td>\n",
       "      <td>Burne-Jones, Sir Edward Coley, Bt</td>\n",
       "      <td>Study of Iseult for ‘The Marriage of Sir Trist...</td>\n",
       "      <td>1927.0</td>\n",
       "    </tr>\n",
       "    <tr>\n",
       "      <td>1740</td>\n",
       "      <td>Burne-Jones, Sir Edward Coley, Bt</td>\n",
       "      <td>Composition Study for ‘Clerk Saunders’</td>\n",
       "      <td>1927.0</td>\n",
       "    </tr>\n",
       "    <tr>\n",
       "      <td>...</td>\n",
       "      <td>...</td>\n",
       "      <td>...</td>\n",
       "      <td>...</td>\n",
       "    </tr>\n",
       "    <tr>\n",
       "      <td>7329</td>\n",
       "      <td>Jones, George</td>\n",
       "      <td>[title not known]</td>\n",
       "      <td>1888.0</td>\n",
       "    </tr>\n",
       "    <tr>\n",
       "      <td>7330</td>\n",
       "      <td>Jones, George</td>\n",
       "      <td>[title not known]</td>\n",
       "      <td>1888.0</td>\n",
       "    </tr>\n",
       "    <tr>\n",
       "      <td>7331</td>\n",
       "      <td>Jones, George</td>\n",
       "      <td>[title not known]</td>\n",
       "      <td>1888.0</td>\n",
       "    </tr>\n",
       "    <tr>\n",
       "      <td>7332</td>\n",
       "      <td>Jones, George</td>\n",
       "      <td>[title not known]</td>\n",
       "      <td>1888.0</td>\n",
       "    </tr>\n",
       "    <tr>\n",
       "      <td>7333</td>\n",
       "      <td>Jones, George</td>\n",
       "      <td>[title not known]</td>\n",
       "      <td>1888.0</td>\n",
       "    </tr>\n",
       "  </tbody>\n",
       "</table>\n",
       "<p>200 rows × 3 columns</p>\n",
       "</div>"
      ],
      "text/plain": [
       "                                  artist  \\\n",
       "id                                         \n",
       "1737   Burne-Jones, Sir Edward Coley, Bt   \n",
       "1738   Burne-Jones, Sir Edward Coley, Bt   \n",
       "1739   Burne-Jones, Sir Edward Coley, Bt   \n",
       "20231  Burne-Jones, Sir Edward Coley, Bt   \n",
       "1740   Burne-Jones, Sir Edward Coley, Bt   \n",
       "...                                  ...   \n",
       "7329                       Jones, George   \n",
       "7330                       Jones, George   \n",
       "7331                       Jones, George   \n",
       "7332                       Jones, George   \n",
       "7333                       Jones, George   \n",
       "\n",
       "                                                   title  acquisitionYear  \n",
       "id                                                                         \n",
       "1737                                      Head of a Girl           1927.0  \n",
       "1738                                        Figure Study           1927.0  \n",
       "1739   Study of the Head of a Female Attendant for ‘T...           1927.0  \n",
       "20231  Study of Iseult for ‘The Marriage of Sir Trist...           1927.0  \n",
       "1740              Composition Study for ‘Clerk Saunders’           1927.0  \n",
       "...                                                  ...              ...  \n",
       "7329                                   [title not known]           1888.0  \n",
       "7330                                   [title not known]           1888.0  \n",
       "7331                                   [title not known]           1888.0  \n",
       "7332                                   [title not known]           1888.0  \n",
       "7333                                   [title not known]           1888.0  \n",
       "\n",
       "[200 rows x 3 columns]"
      ]
     },
     "execution_count": 23,
     "metadata": {},
     "output_type": "execute_result"
    }
   ],
   "source": [
    "# df.iloc[row indexer, column indexer]\n",
    "df.iloc[100:300, [0, 1, 4]]"
   ]
  },
  {
   "cell_type": "code",
   "execution_count": 24,
   "metadata": {},
   "outputs": [
    {
     "data": {
      "text/plain": [
       "'Blake, Robert'"
      ]
     },
     "execution_count": 24,
     "metadata": {},
     "output_type": "execute_result"
    }
   ],
   "source": [
    "# get first column for the first row\n",
    "df.iloc[0, 0]"
   ]
  },
  {
   "cell_type": "code",
   "execution_count": 25,
   "metadata": {},
   "outputs": [
    {
     "data": {
      "text/plain": [
       "artist                                                 Blake, Robert\n",
       "title              A Figure Bowing before a Seated Old Man with h...\n",
       "medium             Watercolour, ink, chalk and graphite on paper....\n",
       "year                                                             NaN\n",
       "acquisitionYear                                                 1922\n",
       "width                                                            394\n",
       "height                                                           419\n",
       "units                                                             mm\n",
       "Name: 1035, dtype: object"
      ]
     },
     "execution_count": 25,
     "metadata": {},
     "output_type": "execute_result"
    }
   ],
   "source": [
    "# get all colunns for a particular row\n",
    "df.iloc[0, :]"
   ]
  },
  {
   "cell_type": "code",
   "execution_count": 26,
   "metadata": {},
   "outputs": [
    {
     "data": {
      "text/html": [
       "<div>\n",
       "<style scoped>\n",
       "    .dataframe tbody tr th:only-of-type {\n",
       "        vertical-align: middle;\n",
       "    }\n",
       "\n",
       "    .dataframe tbody tr th {\n",
       "        vertical-align: top;\n",
       "    }\n",
       "\n",
       "    .dataframe thead th {\n",
       "        text-align: right;\n",
       "    }\n",
       "</style>\n",
       "<table border=\"1\" class=\"dataframe\">\n",
       "  <thead>\n",
       "    <tr style=\"text-align: right;\">\n",
       "      <th></th>\n",
       "      <th>artist</th>\n",
       "      <th>title</th>\n",
       "    </tr>\n",
       "    <tr>\n",
       "      <th>id</th>\n",
       "      <th></th>\n",
       "      <th></th>\n",
       "    </tr>\n",
       "  </thead>\n",
       "  <tbody>\n",
       "    <tr>\n",
       "      <td>1035</td>\n",
       "      <td>Blake, Robert</td>\n",
       "      <td>A Figure Bowing before a Seated Old Man with h...</td>\n",
       "    </tr>\n",
       "    <tr>\n",
       "      <td>1036</td>\n",
       "      <td>Blake, Robert</td>\n",
       "      <td>Two Drawings of Frightened Figures, Probably f...</td>\n",
       "    </tr>\n",
       "  </tbody>\n",
       "</table>\n",
       "</div>"
      ],
      "text/plain": [
       "             artist                                              title\n",
       "id                                                                    \n",
       "1035  Blake, Robert  A Figure Bowing before a Seated Old Man with h...\n",
       "1036  Blake, Robert  Two Drawings of Frightened Figures, Probably f..."
      ]
     },
     "execution_count": 26,
     "metadata": {},
     "output_type": "execute_result"
    }
   ],
   "source": [
    "# get the first 3 columns for the first three artists\n",
    "df.iloc[0:2, 0:2]"
   ]
  },
  {
   "cell_type": "code",
   "execution_count": 27,
   "metadata": {},
   "outputs": [
    {
     "data": {
      "text/plain": [
       "id\n",
       "20822            (1):\n",
       "105337    (diameter):\n",
       "98671         (each):\n",
       "76420         (each):\n",
       "91391        (image):\n",
       "Name: width, dtype: object"
      ]
     },
     "execution_count": 27,
     "metadata": {},
     "output_type": "execute_result"
    }
   ],
   "source": [
    "df['width'].sort_values().head()"
   ]
  },
  {
   "cell_type": "code",
   "execution_count": 28,
   "metadata": {},
   "outputs": [
    {
     "data": {
      "text/plain": [
       "id\n",
       "121283    NaN\n",
       "117863    NaN\n",
       "120549    NaN\n",
       "122900    NaN\n",
       "112306    NaN\n",
       "Name: width, dtype: object"
      ]
     },
     "execution_count": 28,
     "metadata": {},
     "output_type": "execute_result"
    }
   ],
   "source": [
    "df['width'].sort_values().tail()"
   ]
  },
  {
   "cell_type": "code",
   "execution_count": 29,
   "metadata": {},
   "outputs": [
    {
     "data": {
      "text/plain": [
       "id\n",
       "1035      394.0\n",
       "1036      311.0\n",
       "1037      343.0\n",
       "1038      318.0\n",
       "1039      243.0\n",
       "          ...  \n",
       "122960    305.0\n",
       "122961    305.0\n",
       "121181     45.0\n",
       "112306      NaN\n",
       "127035    508.0\n",
       "Name: width, Length: 69201, dtype: float64"
      ]
     },
     "execution_count": 29,
     "metadata": {},
     "output_type": "execute_result"
    }
   ],
   "source": [
    "pd.to_numeric(df['width'], errors='coerce')"
   ]
  },
  {
   "cell_type": "code",
   "execution_count": 30,
   "metadata": {},
   "outputs": [],
   "source": [
    "# replace width column with a sanitized version of the same\n",
    "df.loc[:, 'width'] = pd.to_numeric(df['width'], errors='coerce')"
   ]
  },
  {
   "cell_type": "code",
   "execution_count": 31,
   "metadata": {},
   "outputs": [],
   "source": [
    "df.loc[:, 'height'] = pd.to_numeric(df['height'], errors='coerce')"
   ]
  },
  {
   "cell_type": "code",
   "execution_count": 32,
   "metadata": {},
   "outputs": [
    {
     "data": {
      "text/plain": [
       "id\n",
       "1035      165086.0\n",
       "1036       66243.0\n",
       "1037      160181.0\n",
       "1038      125292.0\n",
       "1039       81405.0\n",
       "            ...   \n",
       "122960     93025.0\n",
       "122961     93025.0\n",
       "121181    108450.0\n",
       "112306         NaN\n",
       "127035    335280.0\n",
       "Length: 69201, dtype: float64"
      ]
     },
     "execution_count": 32,
     "metadata": {},
     "output_type": "execute_result"
    }
   ],
   "source": [
    "df['height'] * df['width']"
   ]
  },
  {
   "cell_type": "code",
   "execution_count": 33,
   "metadata": {},
   "outputs": [],
   "source": [
    "area = df['height'] * df['width']"
   ]
  },
  {
   "cell_type": "code",
   "execution_count": 34,
   "metadata": {},
   "outputs": [],
   "source": [
    "df = df.assign(area=area)"
   ]
  },
  {
   "cell_type": "code",
   "execution_count": 35,
   "metadata": {},
   "outputs": [
    {
     "data": {
      "text/plain": [
       "132462000.0"
      ]
     },
     "execution_count": 35,
     "metadata": {},
     "output_type": "execute_result"
    }
   ],
   "source": [
    "df['area'].max()"
   ]
  },
  {
   "cell_type": "code",
   "execution_count": 36,
   "metadata": {},
   "outputs": [
    {
     "data": {
      "text/plain": [
       "237.0"
      ]
     },
     "execution_count": 36,
     "metadata": {},
     "output_type": "execute_result"
    }
   ],
   "source": [
    "df['area'].min()"
   ]
  },
  {
   "cell_type": "code",
   "execution_count": 38,
   "metadata": {},
   "outputs": [
    {
     "data": {
      "text/plain": [
       "artist                               Therrien, Robert\n",
       "title                No Title (Table and Four Chairs)\n",
       "medium             Aluminium, steel, wood and plastic\n",
       "year                                             2003\n",
       "acquisitionYear                                  2008\n",
       "width                                            8920\n",
       "height                                          14850\n",
       "units                                              mm\n",
       "area                                      1.32462e+08\n",
       "Name: 98367, dtype: object"
      ]
     },
     "execution_count": 38,
     "metadata": {},
     "output_type": "execute_result"
    }
   ],
   "source": [
    "df.loc[df['area'].idxmax(), :]"
   ]
  },
  {
   "cell_type": "code",
   "execution_count": null,
   "metadata": {},
   "outputs": [],
   "source": []
  }
 ],
 "metadata": {
  "kernelspec": {
   "display_name": "Python 3",
   "language": "python",
   "name": "python3"
  },
  "language_info": {
   "codemirror_mode": {
    "name": "ipython",
    "version": 3
   },
   "file_extension": ".py",
   "mimetype": "text/x-python",
   "name": "python",
   "nbconvert_exporter": "python",
   "pygments_lexer": "ipython3",
   "version": "3.7.4"
  }
 },
 "nbformat": 4,
 "nbformat_minor": 2
}
